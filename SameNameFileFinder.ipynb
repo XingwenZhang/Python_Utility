{
 "cells": [
  {
   "cell_type": "code",
   "execution_count": null,
   "metadata": {
    "collapsed": true
   },
   "outputs": [],
   "source": [
    "# Function: Find two folders same name files and then copy them into another folder\n",
    "# Authro: Xingwen Zhang\n",
    "# Date: 2017/10/16"
   ]
  },
  {
   "cell_type": "code",
   "execution_count": 2,
   "metadata": {
    "collapsed": true
   },
   "outputs": [],
   "source": [
    "import os\n",
    "import shutil"
   ]
  },
  {
   "cell_type": "code",
   "execution_count": null,
   "metadata": {
    "collapsed": true
   },
   "outputs": [],
   "source": [
    "folder1_path = ''\n",
    "folder2_path = ''\n",
    "folder3_path = ''\n",
    "model = '/model'\n",
    "image = '/image'\n",
    "fnames = os.listdir(folder1_path)\n",
    "\n",
    "int cnt = 0\n",
    "\n",
    "for filename in fnames:\n",
    "    if cnt == 100:\n",
    "        break\n",
    "    if os.path.exists(folder2_path + filename):\n",
    "        shutil.copy2(folder1_path+filename, folder3_path + model)\n",
    "        shutil.copy2(folder2_path+filename, folder3_path + image)\n",
    "        cnt = cnt + 1\n"
   ]
  }
 ],
 "metadata": {
  "kernelspec": {
   "display_name": "Python 3",
   "language": "python",
   "name": "python3"
  },
  "language_info": {
   "codemirror_mode": {
    "name": "ipython",
    "version": 3
   },
   "file_extension": ".py",
   "mimetype": "text/x-python",
   "name": "python",
   "nbconvert_exporter": "python",
   "pygments_lexer": "ipython3",
   "version": "3.6.1"
  }
 },
 "nbformat": 4,
 "nbformat_minor": 2
}
